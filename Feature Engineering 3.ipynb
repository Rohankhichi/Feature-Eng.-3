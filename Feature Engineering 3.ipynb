{
 "cells": [
  {
   "cell_type": "markdown",
   "id": "ecf4bd1b-154d-40e1-9d5a-e5bb7076dd4b",
   "metadata": {},
   "source": [
    "Q1. What is Min-Max scaling, and how is it used in data preprocessing? Provide an example to illustrate its application."
   ]
  },
  {
   "cell_type": "markdown",
   "id": "e606eb87-f190-4eeb-92ae-401d12adbfc1",
   "metadata": {},
   "source": [
    "Ans1. MinMax Scaler\n",
    "\n",
    "It transforms features by scaling each feature to a given range, which is generally [0,1], or [-1,-1] in case of negative values. For each feature, the MinMax Scaler follows the formula: It subtracts the mean of the column from each value and then divides by the range, i.e, max(x)-min(x)."
   ]
  },
  {
   "cell_type": "markdown",
   "id": "4bbcbbb3-4703-4a68-985d-90fb31f8c4fc",
   "metadata": {},
   "source": [
    "Q2. What is the Unit Vector technique in feature scaling, and how does it differ from Min-Max scaling?\n",
    "Provide an example to illustrate its application.\n"
   ]
  },
  {
   "cell_type": "markdown",
   "id": "4c47f396-d52e-4bb9-b03f-23cf573d2304",
   "metadata": {},
   "source": [
    "Ans2. Like Min-Max Scaling, the Unit Vector technique produces values of range [0,1]. When dealing with features with hard boundaries, this is quite useful. For example, when dealing with image data, the colors can range from only 0 to 255. If we plot, then it would look as below for L1 and L2 norm, respectively. "
   ]
  },
  {
   "cell_type": "markdown",
   "id": "caa8b0f9-c3da-4bd2-9226-aff5b0d6b189",
   "metadata": {},
   "source": [
    "Q3. What is PCA (Principle Component Analysis), and how is it used in dimensionality reduction? Provide an example to illustrate its application.\n"
   ]
  },
  {
   "cell_type": "markdown",
   "id": "f07dc9fa-62dc-44fc-830e-9d21fbcc8aa6",
   "metadata": {},
   "source": [
    "Ans3. Principal Component Analysis (PCA) is a powerful technique used in data analysis, particularly for reducing the dimensionality of datasets while preserving crucial information. It does this by transforming the original variables into a set of new, uncorrelated variables called principal components. "
   ]
  },
  {
   "cell_type": "markdown",
   "id": "2de5ef8e-b9b6-4545-99a8-e5b318df7fda",
   "metadata": {},
   "source": [
    "Q4. What is the relationship between PCA and Feature Extraction, and how can PCA be used for Feature Extraction? Provide an example to illustrate this concept."
   ]
  },
  {
   "cell_type": "markdown",
   "id": "59909c53-81ea-4b1a-a510-3bb3e9b90bd9",
   "metadata": {},
   "source": [
    "Ans4. Feature extraction: PCA can be used to identify the most important features in a dataset, which can be used to build predictive models. Visualization: PCA can be used to visualize high-dimensional data in two or three dimensions, making it easier to understand and interpret."
   ]
  },
  {
   "cell_type": "markdown",
   "id": "2781f5f4-99b2-4e5c-a82a-050e80e2c014",
   "metadata": {},
   "source": [
    "Q5. You are working on a project to build a recommendation system for a food delivery service. The dataset\n",
    "contains features such as price, rating, and delivery time. Explain how you would use Min-Max scaling to\n",
    "preprocess the data.\n"
   ]
  },
  {
   "cell_type": "markdown",
   "id": "6b0de3f6-7bc7-4ac8-b9e2-65d863c53e97",
   "metadata": {},
   "source": [
    "Ans5. Min-Max scaling is a common technique used in data preprocessing to scale numerical features to a specific range, typically between 0 and 1. This can be particularly useful when dealing with features that have different scales or units of measurement.\n",
    "Here's how you could use Min-Max scaling to preprocess the data for your recommendation system project:\n",
    "\n",
    "1. Identify the numerical features that require scaling, such as price, rating, and delivery time.\n",
    "\n",
    "2. For each feature, apply the following formula to perform Min-Max scaling:\n",
    "\\[ x_{\\text{scaled}} = \\frac{x - x_{\\text{min}}}{x_{\\text{max}} - x_{\\text{min}}} \\]\n",
    "Where:\n",
    "- \\( x \\) is the original value of the feature.\n",
    "- \\( x_{\\text{min}} \\) is the minimum value of that feature in the dataset.\n",
    "- \\( x_{\\text{max}} \\) is the maximum value of that feature in the dataset.\n",
    "- \\( x_{\\text{scaled}} \\) is the scaled value of the feature.\n",
    "\n",
    "3. By applying this formula, you ensure that all your numerical features are scaled to a range between 0 and 1, which helps in making the training process more efficient and accurate.\n",
    "\n",
    "4. Remember to fit the scaling transformation on the training data and then apply the same transformation to the test data to avoid leakage of information from the test set.\n",
    "\n",
    "By using Min-Max scaling, you can effectively preprocess the numerical features in your dataset for your food delivery recommendation system project, helping your model to perform better and make more accurate recommendations.\n"
   ]
  },
  {
   "cell_type": "markdown",
   "id": "9cccc82b-5517-4e7a-8ed1-d6d9c3da950a",
   "metadata": {},
   "source": [
    "Q7. For a dataset containing the following values: [1, 5, 10, 15, 20], perform Min-Max scaling to transform the\n",
    "values to a range of -1 to 1."
   ]
  },
  {
   "cell_type": "markdown",
   "id": "d66817f5-2981-4e0f-86b9-e585827d1043",
   "metadata": {},
   "source": [
    "Ans6. To transform the values in the dataset \\([1, 5, 10, 15, 20]\\) to a range of -1 to 1 using Min-Max scaling, we need to apply the following formula:\n",
    "\n",
    "\\[ x_{\\text{scaled}} = \\frac{2 * (x - x_{\\text{min}})}{x_{\\text{max}} - x_{\\text{min}}} - 1 \\]\n",
    "\n",
    "Where:\n",
    "- \\( x \\) is the original value of the feature.\n",
    "- \\( x_{\\text{min}} \\) is the minimum value of that feature in the dataset.\n",
    "- \\( x_{\\text{max}} \\) is the maximum value of that feature in the dataset.\n",
    "- \\( x_{\\text{scaled}} \\) is the scaled value of the feature.\n",
    "\n",
    "Now let's calculate the scaled values for the given dataset:\n",
    "\n",
    "1. Calculate \\( x_{\\text{min}} \\) and \\( x_{\\text{max}} \\):\n",
    "   - \\( x_{\\text{min}} = 1 \\)\n",
    "   - \\( x_{\\text{max}} = 20 \\)\n",
    "\n",
    "2. Apply the Min-Max scaling formula for each value in the dataset:\n",
    "\n",
    "- For \\( x = 1 \\):\n",
    "  \\[ x_{\\text{scaled}} = \\frac{2 * (1 - 1)}{20 - 1} - 1 = -1 \\]\n",
    "\n",
    "- For \\( x = 5 \\):\n",
    "  \\[ x_{\\text{scaled}} = \\frac{2 * (5 - 1)}{20 - 1} - 1 = -0.2 \\]\n",
    "\n",
    "- For \\( x = 10 \\):\n",
    "  \\[ x_{\\text{scaled}} = \\frac{2 * (10 - 1)}{20 - 1} - 1 = 0.2 \\]\n",
    "\n",
    "- For \\( x = 15 \\):\n",
    "  \\[ x_{\\text{scaled}} = \\frac{2 * (15 - 1)}{20 - 1} - 1 = 0.6 \\]\n",
    "\n",
    "- For \\( x = 20 \\):\n",
    "  \\[ x_{\\text{scaled}} = \\frac{2 * (20 - 1)}{20 - 1} - 1 = 1 \\]\n",
    "\n",
    "Therefore, after applying Min-Max scaling, the transformed dataset would be: \\([-1, -0.2, 0.2, 0.6, 1]\\)\n"
   ]
  },
  {
   "cell_type": "markdown",
   "id": "b767efd9-db1a-4556-81ef-f1d74fa014e3",
   "metadata": {},
   "source": [
    "Q8. For a dataset containing the following features: [height, weight, age, gender, blood pressure], perform\n",
    "Feature Extraction using PCA. How many principal components would you choose to retain, and why?"
   ]
  },
  {
   "cell_type": "markdown",
   "id": "67c0bafd-0fec-4b57-a122-7ca8e69bc816",
   "metadata": {},
   "source": [
    "Principal Component Analysis (PCA) is a technique used for dimensionality reduction in datasets, particularly when dealing with high-dimensional data. The goal is to reduce the number of features while preserving most of the variance in the data.\n",
    "\n",
    "To determine how many principal components (PCs) to retain, we typically look at the cumulative explained variance ratio. This ratio tells us how much of the total variance in the dataset is explained by each additional principal component.\n",
    "\n",
    "However, before we proceed, it's important to note that PCA is generally applied to numerical features. Since 'gender' is a categorical variable, it would need to be encoded before performing PCA. Assuming that 'gender' is encoded (e.g., 0 for male, 1 for female), we can proceed with PCA."
   ]
  },
  {
   "cell_type": "code",
   "execution_count": null,
   "id": "769896af-1e1c-4b15-b0bf-94334814d630",
   "metadata": {},
   "outputs": [],
   "source": []
  },
  {
   "cell_type": "code",
   "execution_count": null,
   "id": "d67adc05-c104-43db-9ab0-8f03d14a7822",
   "metadata": {},
   "outputs": [],
   "source": []
  }
 ],
 "metadata": {
  "kernelspec": {
   "display_name": "Python 3 (ipykernel)",
   "language": "python",
   "name": "python3"
  },
  "language_info": {
   "codemirror_mode": {
    "name": "ipython",
    "version": 3
   },
   "file_extension": ".py",
   "mimetype": "text/x-python",
   "name": "python",
   "nbconvert_exporter": "python",
   "pygments_lexer": "ipython3",
   "version": "3.10.8"
  }
 },
 "nbformat": 4,
 "nbformat_minor": 5
}
